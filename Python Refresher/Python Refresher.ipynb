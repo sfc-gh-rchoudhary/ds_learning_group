{
 "cells": [
  {
   "cell_type": "markdown",
   "id": "ffb826e9",
   "metadata": {},
   "source": [
    "# Python Refresher\n",
    "\n",
    "\n",
    "This notebook contains topics like data types , loops, functions , pandas and numpy. This notebook would help you to revise basics and for beginners to learn.\n",
    "Hope you like it."
   ]
  },
  {
   "cell_type": "markdown",
   "id": "900acc91",
   "metadata": {},
   "source": [
    "1. Data Types\n",
    "* int\n",
    "* float\n",
    "* bool\n",
    "* str\n",
    "* complex\n",
    "2. Data Structures and their properties\n",
    "* list\n",
    "* tuple\n",
    "* set\n",
    "* dictionary"
   ]
  },
  {
   "cell_type": "markdown",
   "id": "2d6a753b",
   "metadata": {},
   "source": [
    "### Integers\n",
    "\n",
    "Integers in python are counting numbers. They do not contain any fractions. They are both positive and negative. Eg. -100,-10,-1,0,1,2,10,100 etc..\n",
    "\n"
   ]
  },
  {
   "cell_type": "code",
   "execution_count": 2,
   "id": "35834ab0",
   "metadata": {},
   "outputs": [
    {
     "name": "stdout",
     "output_type": "stream",
     "text": [
      "Type of a is <class 'int'>\n",
      "Type of b is <class 'int'>\n"
     ]
    }
   ],
   "source": [
    "a = -100\n",
    "b = 100\n",
    "print('Type of a is' , type(a))\n",
    "print(f'Type of b is {type(b)}')"
   ]
  },
  {
   "cell_type": "markdown",
   "id": "aaa286fb",
   "metadata": {},
   "source": [
    "### Float\n",
    "Floating numbers decimal numbers. Eg- 1.1,1.2,1001.00,-1.56 etc..\n"
   ]
  },
  {
   "cell_type": "code",
   "execution_count": 4,
   "id": "66873dd3",
   "metadata": {},
   "outputs": [
    {
     "name": "stdout",
     "output_type": "stream",
     "text": [
      "Type of a is <class 'float'>\n"
     ]
    }
   ],
   "source": [
    "\n",
    "a = 1.1\n",
    "print(f'Type of a is {type(a)}')"
   ]
  },
  {
   "cell_type": "markdown",
   "id": "339c8bda",
   "metadata": {},
   "source": [
    "### String\n",
    "String are characters mostly alphabets. They are written inside single or double quotes. Eg- \"ABH\",\"XYZ\",\"-1\" \"1\" etc..\n"
   ]
  },
  {
   "cell_type": "code",
   "execution_count": 5,
   "id": "f2fe09dc",
   "metadata": {},
   "outputs": [
    {
     "name": "stdout",
     "output_type": "stream",
     "text": [
      "Type of a is <class 'str'>\n"
     ]
    },
    {
     "data": {
      "text/plain": [
       "str"
      ]
     },
     "execution_count": 5,
     "metadata": {},
     "output_type": "execute_result"
    }
   ],
   "source": [
    "\n",
    "a = \"GreyWasp\"\n",
    "b = \"-1.00\"\n",
    "print(f'Type of a is {type(a)}')\n",
    "type(b)"
   ]
  },
  {
   "cell_type": "markdown",
   "id": "69d7d6c3",
   "metadata": {},
   "source": [
    "### Complex Numbers\n",
    "Complex Numbers are numbers that have real and imaginary part. Eg- 1+3j , 2+0j etc..\n"
   ]
  },
  {
   "cell_type": "code",
   "execution_count": 6,
   "id": "4f91e258",
   "metadata": {},
   "outputs": [
    {
     "name": "stdout",
     "output_type": "stream",
     "text": [
      "Type of a is <class 'complex'>\n",
      "(8+0j)\n"
     ]
    }
   ],
   "source": [
    "\n",
    "a = 1 + 3j\n",
    "print(f'Type of a is {type(a)}')\n",
    "b = complex(8)\n",
    "print(b)"
   ]
  },
  {
   "cell_type": "markdown",
   "id": "5911bc8f",
   "metadata": {},
   "source": [
    "#                                Data Structures and their properties\n",
    "### List \n",
    "Properties:\n",
    "* Ordered\n",
    "* Mutable\n",
    "* Can have multiple data types\n",
    "* Can have duplicates\n",
    "* Contained in []\n"
   ]
  },
  {
   "cell_type": "code",
   "execution_count": 42,
   "id": "302524b0",
   "metadata": {},
   "outputs": [
    {
     "name": "stdout",
     "output_type": "stream",
     "text": [
      "['1', 2, 1.198, True, 2]\n",
      "1\n",
      "['1', 22, 1.198, True, 2]\n",
      "<class 'list'>\n"
     ]
    }
   ],
   "source": [
    "list1 = ['1',2,1.198,True,2] #contained in []\n",
    "print(list1) #Can have multiple data types and duplicates\n",
    "print(list1[0]) #Ordered\n",
    "list1[1]=22 #Mutable\n",
    "print(list1)\n",
    "print(type(list1))"
   ]
  },
  {
   "cell_type": "markdown",
   "id": "e76f0a7a",
   "metadata": {},
   "source": [
    "### Commonly used List Methods"
   ]
  },
  {
   "cell_type": "code",
   "execution_count": 22,
   "id": "9d9a0a85",
   "metadata": {},
   "outputs": [
    {
     "name": "stdout",
     "output_type": "stream",
     "text": [
      "['1', 22, 1.198, True, 2, 'Name']\n",
      "['1', 22, 1.198, True, 2, 'Name', ['xyz', 'abc']]\n",
      "['1', 22, 1.198, True, 2, 'Name']\n",
      "['1', 22, 1.198, True, 2, 'Name', 'xyz', 'abc']\n",
      "[22, 1.198, True, 2, 'Name', 'xyz', 'abc']\n",
      "[45, 22, 1.198, True, 2, 'Name', 'xyz', 'abc']\n",
      "[22, 1.198, True, 2, 'Name', 'xyz', 'abc']\n",
      "5\n",
      "1\n",
      "[12, 25, 99]\n",
      "[99, 25, 12]\n",
      "[12, 25, 99]\n",
      "['abc', 'xyz', 'Name', 2, True, 1.198, 22]\n",
      "[22, 1.198, True, 2, 'Name', 'xyz', 'abc']\n",
      "a-b-c\n",
      "[]\n"
     ]
    }
   ],
   "source": [
    "\n",
    "list1.append('Name') #Can add only 1 element\n",
    "print(list1)\n",
    "\n",
    "list1.append(['xyz','abc']) #If try more, it becomes nested list\n",
    "print(list1)\n",
    "\n",
    "list1.pop() #Delete last element\n",
    "print(list1)\n",
    "\n",
    "list1.extend(['xyz','abc']) #adding more than 1 element\n",
    "print(list1)\n",
    "\n",
    "list1.pop(0) #Delete from specific index\n",
    "print(list1)\n",
    "\n",
    "list1.insert(0,45) #Inserting 45 at index 0\n",
    "print(list1)\n",
    "\n",
    "list1.remove(45)  #Removing a specific value from list\n",
    "print(list1)\n",
    "\n",
    "print(list1.index('xyz'))\n",
    "#To get index of a value\n",
    "\n",
    "print(list1.count('xyz'))\n",
    "#Count occurence of a value in string\n",
    "\n",
    "list2  = [25,12,99]\n",
    "list2.sort() #Sorts list in ascending order and changes list1\n",
    "print(list2)\n",
    "\n",
    "print(sorted(list2,reverse=True))\n",
    "#Sorts list in descending order and but doesn't change list1\n",
    "print(list2)\n",
    "\n",
    "list2 = list1.copy() #list2 is same as list1 but changes in list1 won't affect list2. Hard copy\n",
    "list1.reverse() # Reverses list\n",
    "print(list1)\n",
    "\n",
    "print(list2)\n",
    "\n",
    "list3 = ['a','b','c']\n",
    "list3 = '-'.join(list3) #Join list items by delimeter (only string type of list allowed)\n",
    "print(list3)\n",
    "\n",
    "list1.clear() #Deleting elements of list but list is still present\n",
    "print(list1)\n",
    "\n",
    "del(list1)#Deletes list1 from system\n",
    "#print(list1) #Thats why error here"
   ]
  },
  {
   "cell_type": "markdown",
   "id": "d35ac68c",
   "metadata": {},
   "source": [
    "### Tuple \n",
    "Properties:\n",
    "* Ordered\n",
    "* Immutable\n",
    "* Can have multiple data types\n",
    "* Can have duplicates\n",
    "* Contained in ()"
   ]
  },
  {
   "cell_type": "code",
   "execution_count": 23,
   "id": "6e92abfc",
   "metadata": {},
   "outputs": [
    {
     "name": "stdout",
     "output_type": "stream",
     "text": [
      "<class 'tuple'>\n",
      "(1, 2, 3, 'a', True, 1.3, 'a')\n"
     ]
    }
   ],
   "source": [
    "\n",
    "tup = (1,2,3,'a',True,1.3,'a') #can have duplicates,multiple data types and enclosed in()\n",
    "print(type(tup))\n",
    "print(tup)"
   ]
  },
  {
   "cell_type": "markdown",
   "id": "6e1d6e79",
   "metadata": {},
   "source": [
    "\n",
    "### Commonly Used Methods\n",
    "Since, it is immutable, sort or reverse , any function that changes index is not allowed.\n",
    "Useful for storing latitudes, longitudes etc.\n"
   ]
  },
  {
   "cell_type": "code",
   "execution_count": 24,
   "id": "020a41db",
   "metadata": {},
   "outputs": [
    {
     "name": "stdout",
     "output_type": "stream",
     "text": [
      "2\n",
      "0\n",
      "7\n"
     ]
    }
   ],
   "source": [
    "#count,index,len\n",
    "tup1 = (1,2,3,1,1,1,1)\n",
    "print(tup.count(1)) #Count no. of occurences of an element\n",
    "print(tup.index(1)) #Index of first occurence of a element\n",
    "print(len(tup)) #Length of tuple\n"
   ]
  },
  {
   "cell_type": "markdown",
   "id": "90f8dbe8",
   "metadata": {},
   "source": [
    "### Set \n",
    "Properties:\n",
    "* Unordered\n",
    "* Mutable\n",
    "* Can have multiple data types\n",
    "* Cannot have duplicates\n",
    "* Contained in {}\n",
    "* No bool allowed"
   ]
  },
  {
   "cell_type": "code",
   "execution_count": 25,
   "id": "b2202cd6",
   "metadata": {},
   "outputs": [
    {
     "name": "stdout",
     "output_type": "stream",
     "text": [
      "<class 'set'>\n",
      "{1, 2, 5, 6, 'a'}\n",
      "{1, 2, 100, 5, 6, 'a'}\n"
     ]
    }
   ],
   "source": [
    "set1 = {1,1,2,5,6,'a',True} #contained in {}\n",
    "print(type(set1))\n",
    "\n",
    "print(set1)#Doesn't inlcude duplicates and has multiple data types . Also, doesn't allow bool\n",
    "\n",
    "set1.add(100) #Elements are added with add only, mutable though unordered, 100 will be added anywhere\n",
    "print(set1)"
   ]
  },
  {
   "cell_type": "markdown",
   "id": "dee9aa76",
   "metadata": {},
   "source": [
    "###  Commonly Used Methods\n",
    "clear,copy,difference,differece_update,intersection,discard,disjoint,issubset,union,issuperset,remove,symmetric_difference,update,update\n",
    "\n",
    "It is just like set in mathematics"
   ]
  },
  {
   "cell_type": "code",
   "execution_count": 26,
   "id": "1f7379ff",
   "metadata": {},
   "outputs": [
    {
     "name": "stdout",
     "output_type": "stream",
     "text": [
      "{0, 1, 2, 3, 4}\n",
      "{1, 5, 9, 13, 17}\n",
      "{0, 2, 3, 4}\n",
      "False\n",
      "False\n",
      "{0, 1, 2, 3, 4, 5, 9, 13, 17}\n",
      "True\n",
      "{0, 2, 3, 4, 5, 9, 13, 17}\n",
      "{0, 1, 2, 3, 4, 78, 56}\n"
     ]
    }
   ],
   "source": [
    "A = {i for i in range(5)}\n",
    "print(A)\n",
    "\n",
    "B = {i for i in range(1,20,4)}\n",
    "print(B)\n",
    "\n",
    "print(A.difference(B)) # No changes to A \n",
    "\n",
    "# If we use A.difference_update(B), A gets updated to A-B\n",
    "print(A.isdisjoint(B))\n",
    "\n",
    "print(A.issubset(B))\n",
    "\n",
    "print(A.union(B))\n",
    "\n",
    "X = A.union(B)\n",
    "print(X.issuperset(A))\n",
    "\n",
    "print(A.symmetric_difference(B))#Remove common\n",
    "\n",
    "A.update([56,78]) #Just like extend\n",
    "print(A)"
   ]
  },
  {
   "cell_type": "markdown",
   "id": "9eacbf16",
   "metadata": {},
   "source": [
    "### Dictionary \n",
    "* Properties:\n",
    "* Has Key and values (Unordered, has to be accessed by keys)\n",
    "* Mutable\n",
    "* Can have multiple data types (Keys are mostly strings, but can be tuple or set not list)\n",
    "* Overwrites the values for duplicate keys\n",
    "* Contained in {}"
   ]
  },
  {
   "cell_type": "code",
   "execution_count": 29,
   "id": "5499c07a",
   "metadata": {},
   "outputs": [
    {
     "name": "stdout",
     "output_type": "stream",
     "text": [
      "{'Name': 'GreyWasp', 'Rank': 'Kaggle 1X Expert', 'Age': 21}\n",
      "{'Name': 'GreyWasp', 'Rank': 'Kaggle 1X Expert', 'Age': 22}\n"
     ]
    }
   ],
   "source": [
    "dict1 = {'Name' : 'GreyWasp',\n",
    "         'Rank' : 'Kaggle Expert',\n",
    "         'Age': 21,\n",
    "        'Rank' : 'Kaggle 1X Expert'} #Multiple data types and overwrite duplicates and contained in {}\n",
    "print(dict1)\n",
    "\n",
    "# dict[0] # Wont work as dictionary is not ordered\n",
    "dict1['Age'] = 22 #Mutable\n",
    "\n",
    "print(dict1)"
   ]
  },
  {
   "cell_type": "markdown",
   "id": "076ea728",
   "metadata": {},
   "source": [
    "### Commonly Used Methods\n",
    "\n",
    "keys,values,items,pop,popitem,get,fromkeys,copy,update,clear"
   ]
  },
  {
   "cell_type": "code",
   "execution_count": 30,
   "id": "f4786d7a",
   "metadata": {},
   "outputs": [
    {
     "name": "stdout",
     "output_type": "stream",
     "text": [
      "dict_keys(['Name', 'Rank', 'Age'])\n",
      "dict_values(['GreyWasp', 'Kaggle 1X Expert', 22])\n",
      "dict_items([('Name', 'GreyWasp'), ('Rank', 'Kaggle 1X Expert'), ('Age', 22)])\n",
      "{'Name': 'GreyWasp', 'Rank': 'Kaggle 1X Expert'}\n",
      "22\n",
      "{'Age': 1, 'Ranking': 1}\n",
      "{'Name': 'GreyWasp'}\n"
     ]
    }
   ],
   "source": [
    "print(dict1.keys())\n",
    "\n",
    "print(dict1.values())\n",
    "\n",
    "print(dict1.items())\n",
    "\n",
    "dict1.pop(\"Age\") #Delete a key with value\n",
    "print(dict1)\n",
    "\n",
    "dict1.popitem() #Deletes last item\n",
    "print(dict1.get('Age',22)) #Returns 22 if Age not present, else will return value of key 'age'\n",
    "\n",
    "details = ['Age','Ranking']\n",
    "print(dict1.fromkeys(details,1))\n",
    "\n",
    "print(dict1)"
   ]
  },
  {
   "cell_type": "code",
   "execution_count": null,
   "id": "d592dffc",
   "metadata": {},
   "outputs": [],
   "source": []
  },
  {
   "cell_type": "markdown",
   "id": "5aeaa60e",
   "metadata": {},
   "source": [
    "## Python operators"
   ]
  },
  {
   "cell_type": "code",
   "execution_count": 43,
   "id": "fcb860b4",
   "metadata": {},
   "outputs": [
    {
     "data": {
      "text/plain": [
       "True"
      ]
     },
     "execution_count": 43,
     "metadata": {},
     "output_type": "execute_result"
    }
   ],
   "source": [
    "10 == 5*2"
   ]
  },
  {
   "cell_type": "code",
   "execution_count": 44,
   "id": "d059851d",
   "metadata": {},
   "outputs": [
    {
     "data": {
      "text/plain": [
       "False"
      ]
     },
     "execution_count": 44,
     "metadata": {},
     "output_type": "execute_result"
    }
   ],
   "source": [
    "10 != 10"
   ]
  },
  {
   "cell_type": "code",
   "execution_count": 45,
   "id": "55d1b217",
   "metadata": {},
   "outputs": [
    {
     "data": {
      "text/plain": [
       "True"
      ]
     },
     "execution_count": 45,
     "metadata": {},
     "output_type": "execute_result"
    }
   ],
   "source": [
    "10 > 5"
   ]
  },
  {
   "cell_type": "code",
   "execution_count": 46,
   "id": "84eb0efa",
   "metadata": {},
   "outputs": [
    {
     "data": {
      "text/plain": [
       "True"
      ]
     },
     "execution_count": 46,
     "metadata": {},
     "output_type": "execute_result"
    }
   ],
   "source": [
    "True and True #checks whether 2 statements are true"
   ]
  },
  {
   "cell_type": "code",
   "execution_count": 48,
   "id": "8bd91e38",
   "metadata": {},
   "outputs": [
    {
     "data": {
      "text/plain": [
       "True"
      ]
     },
     "execution_count": 48,
     "metadata": {},
     "output_type": "execute_result"
    }
   ],
   "source": [
    "True or True"
   ]
  },
  {
   "cell_type": "code",
   "execution_count": 49,
   "id": "d2492d41",
   "metadata": {},
   "outputs": [
    {
     "data": {
      "text/plain": [
       "True"
      ]
     },
     "execution_count": 49,
     "metadata": {},
     "output_type": "execute_result"
    }
   ],
   "source": [
    "True or False"
   ]
  },
  {
   "cell_type": "code",
   "execution_count": 50,
   "id": "b9e7422e",
   "metadata": {},
   "outputs": [
    {
     "ename": "SyntaxError",
     "evalue": "invalid syntax (2377698147.py, line 1)",
     "output_type": "error",
     "traceback": [
      "\u001b[0;36m  File \u001b[0;32m\"/var/folders/q9/2xnlkpn57tgb1fx2y9p30qd40000gn/T/ipykernel_7696/2377698147.py\"\u001b[0;36m, line \u001b[0;32m1\u001b[0m\n\u001b[0;31m    True nor False\u001b[0m\n\u001b[0m         ^\u001b[0m\n\u001b[0;31mSyntaxError\u001b[0m\u001b[0;31m:\u001b[0m invalid syntax\n"
     ]
    }
   ],
   "source": [
    "True nor False"
   ]
  },
  {
   "cell_type": "markdown",
   "id": "648fdbd2",
   "metadata": {},
   "source": [
    "# Numpy\n",
    "\n",
    "* NumPy, Numerical Python, is the package for scientific computing and data analysis, implementing the multidimensional array object, ndarray.\n",
    "* Why NumPy ndarray? Because lists are not good for numerical calculations\n",
    "* NumPy ndarray provides element-wise operations.\n"
   ]
  },
  {
   "cell_type": "code",
   "execution_count": 31,
   "id": "2505e7e5",
   "metadata": {},
   "outputs": [],
   "source": [
    "import numpy as np"
   ]
  },
  {
   "cell_type": "code",
   "execution_count": 32,
   "id": "c89b9015",
   "metadata": {},
   "outputs": [
    {
     "data": {
      "text/plain": [
       "array([[0, 1, 2],\n",
       "       [3, 4, 5]])"
      ]
     },
     "execution_count": 32,
     "metadata": {},
     "output_type": "execute_result"
    }
   ],
   "source": [
    "#create a 2D, 2 x 3, array\n",
    "\n",
    "\n",
    "a = np.array([[0, 1, 2], [3, 4, 5]])   \n",
    "a"
   ]
  },
  {
   "cell_type": "code",
   "execution_count": 34,
   "id": "352cab1a",
   "metadata": {},
   "outputs": [
    {
     "data": {
      "text/plain": [
       "(dtype('int64'), (2, 3))"
      ]
     },
     "execution_count": 34,
     "metadata": {},
     "output_type": "execute_result"
    }
   ],
   "source": [
    "# Let's check data type and shape of array\n",
    "a.dtype, a.shape"
   ]
  },
  {
   "cell_type": "markdown",
   "id": "8997dbec",
   "metadata": {},
   "source": [
    "### Get and set an element\n",
    "\n",
    "Get a (element) value via integer index."
   ]
  },
  {
   "cell_type": "code",
   "execution_count": 35,
   "id": "6b572216",
   "metadata": {},
   "outputs": [
    {
     "data": {
      "text/plain": [
       "2"
      ]
     },
     "execution_count": 35,
     "metadata": {},
     "output_type": "execute_result"
    }
   ],
   "source": [
    "#get an element\n",
    "a = np.array([[0, 1, 2], [3, 4, 5]])\n",
    "a[0, 2] "
   ]
  },
  {
   "cell_type": "code",
   "execution_count": 36,
   "id": "076bed54",
   "metadata": {},
   "outputs": [
    {
     "data": {
      "text/plain": [
       "array([[ 0,  1, 99],\n",
       "       [ 3,  4,  5]])"
      ]
     },
     "execution_count": 36,
     "metadata": {},
     "output_type": "execute_result"
    }
   ],
   "source": [
    "# set an element\n",
    "a[0, 2] = 99\n",
    "a  "
   ]
  },
  {
   "cell_type": "markdown",
   "id": "176dea91",
   "metadata": {},
   "source": [
    "### Numerical Calculations on numpy array"
   ]
  },
  {
   "cell_type": "code",
   "execution_count": 37,
   "id": "680ce4ff",
   "metadata": {},
   "outputs": [
    {
     "name": "stdout",
     "output_type": "stream",
     "text": [
      "[4 6]\n",
      "[7 9]\n"
     ]
    }
   ],
   "source": [
    "x = np.array([2, 3])   # error if (2, 3) \n",
    "print(2 * x)\n",
    "\n",
    "y = np.array([5, 6])\n",
    "print(x + y)\n"
   ]
  },
  {
   "cell_type": "code",
   "execution_count": 38,
   "id": "b7969ac8",
   "metadata": {},
   "outputs": [
    {
     "data": {
      "text/plain": [
       "(array([ 2.71828183,  7.3890561 , 20.08553692]),\n",
       " array([1.        , 1.41421356, 1.73205081]),\n",
       " array([0.        , 0.69314718, 1.09861229]))"
      ]
     },
     "execution_count": 38,
     "metadata": {},
     "output_type": "execute_result"
    }
   ],
   "source": [
    "x = np.array([1.0, 2.0, 3.0])\n",
    "np.exp(x), np.sqrt(x), np.log(x)"
   ]
  },
  {
   "cell_type": "markdown",
   "id": "df4aed00",
   "metadata": {},
   "source": [
    "**There are two array x and y ,drop the items in X which already exist in Y.**"
   ]
  },
  {
   "cell_type": "code",
   "execution_count": 39,
   "id": "4339f54e",
   "metadata": {},
   "outputs": [
    {
     "data": {
      "text/plain": [
       "array([1, 2, 3, 4, 5, 6, 7, 8, 9])"
      ]
     },
     "execution_count": 39,
     "metadata": {},
     "output_type": "execute_result"
    }
   ],
   "source": [
    "x = np.array([1,2,3,4,5])\n",
    "y = np.array([5,6,7,8,9])\n",
    "np.unique([x,y])"
   ]
  },
  {
   "cell_type": "markdown",
   "id": "313ba69d",
   "metadata": {},
   "source": [
    "**Reverse the rows of a 2D array**"
   ]
  },
  {
   "cell_type": "code",
   "execution_count": 40,
   "id": "09f0f2e5",
   "metadata": {},
   "outputs": [
    {
     "name": "stdout",
     "output_type": "stream",
     "text": [
      "[[0 1 2]\n",
      " [3 4 5]\n",
      " [6 7 8]]\n"
     ]
    },
    {
     "data": {
      "text/plain": [
       "array([[6, 7, 8],\n",
       "       [3, 4, 5],\n",
       "       [0, 1, 2]])"
      ]
     },
     "execution_count": 40,
     "metadata": {},
     "output_type": "execute_result"
    }
   ],
   "source": [
    "x= np.arange(9).reshape(3,3)\n",
    "print(x)\n",
    "x[::-1]"
   ]
  },
  {
   "cell_type": "markdown",
   "id": "670bcff7",
   "metadata": {},
   "source": [
    "**Reverse the columns of a 2D array**"
   ]
  },
  {
   "cell_type": "code",
   "execution_count": 41,
   "id": "7fbaddc2",
   "metadata": {},
   "outputs": [
    {
     "data": {
      "text/plain": [
       "array([[2, 1, 0],\n",
       "       [5, 4, 3],\n",
       "       [8, 7, 6]])"
      ]
     },
     "execution_count": 41,
     "metadata": {},
     "output_type": "execute_result"
    }
   ],
   "source": [
    "X = np.arange(9).reshape(3,3)\n",
    "np.flip(X[::-1])"
   ]
  },
  {
   "cell_type": "code",
   "execution_count": 61,
   "id": "88d139bd",
   "metadata": {},
   "outputs": [
    {
     "data": {
      "text/plain": [
       "array([ 0,  2,  4,  6,  8, 10, 12, 14, 16, 18, 20, 22, 24, 26, 28, 30, 32,\n",
       "       34, 36, 38, 40, 42, 44, 46, 48])"
      ]
     },
     "execution_count": 61,
     "metadata": {},
     "output_type": "execute_result"
    }
   ],
   "source": [
    "np.arange(0,50,2)"
   ]
  },
  {
   "cell_type": "markdown",
   "id": "8947f857",
   "metadata": {},
   "source": [
    "# Loops"
   ]
  },
  {
   "cell_type": "code",
   "execution_count": 56,
   "id": "1890f4f0",
   "metadata": {},
   "outputs": [
    {
     "name": "stdout",
     "output_type": "stream",
     "text": [
      "p\n",
      "y\n",
      "t\n",
      "h\n",
      "o\n",
      "n\n"
     ]
    }
   ],
   "source": [
    "for i in 'python':\n",
    "    print(i)"
   ]
  },
  {
   "cell_type": "code",
   "execution_count": 63,
   "id": "95407995",
   "metadata": {},
   "outputs": [
    {
     "name": "stdout",
     "output_type": "stream",
     "text": [
      "0\n",
      "1\n",
      "2\n",
      "3\n",
      "4\n"
     ]
    }
   ],
   "source": [
    "for i in range(5):\n",
    "    print(i)"
   ]
  },
  {
   "cell_type": "code",
   "execution_count": 64,
   "id": "e6d91137",
   "metadata": {},
   "outputs": [
    {
     "name": "stdout",
     "output_type": "stream",
     "text": [
      "pyton\n"
     ]
    }
   ],
   "source": [
    "for i in 'python':\n",
    "    if i == 'h':\n",
    "        continue\n",
    "    print(i, end='')\n",
    "print()"
   ]
  },
  {
   "cell_type": "code",
   "execution_count": 65,
   "id": "055a1b37",
   "metadata": {
    "scrolled": true
   },
   "outputs": [
    {
     "name": "stdout",
     "output_type": "stream",
     "text": [
      "10\n",
      "9\n",
      "8\n",
      "7\n",
      "6\n",
      "5\n",
      "4\n",
      "3\n",
      "2\n",
      "1\n"
     ]
    }
   ],
   "source": [
    "lcount=10\n",
    "while (lcount>0):\n",
    "    print(lcount)\n",
    "    lcount=lcount-1"
   ]
  },
  {
   "cell_type": "code",
   "execution_count": 70,
   "id": "bb43c932",
   "metadata": {},
   "outputs": [
    {
     "name": "stdout",
     "output_type": "stream",
     "text": [
      "9876"
     ]
    }
   ],
   "source": [
    "var=9\n",
    "while var >0:\n",
    "    print(var, end ='')\n",
    "    var=var-1\n",
    "    if var== 5:\n",
    "        break"
   ]
  },
  {
   "cell_type": "code",
   "execution_count": 77,
   "id": "a3ba992f",
   "metadata": {},
   "outputs": [
    {
     "name": "stdout",
     "output_type": "stream",
     "text": [
      "Enter a number:4\n"
     ]
    },
    {
     "data": {
      "text/plain": [
       "str"
      ]
     },
     "execution_count": 77,
     "metadata": {},
     "output_type": "execute_result"
    }
   ],
   "source": [
    "a = input(\"Enter a number:\")\n",
    "type(a)"
   ]
  },
  {
   "cell_type": "code",
   "execution_count": 78,
   "id": "c4ffed9e",
   "metadata": {},
   "outputs": [
    {
     "name": "stdout",
     "output_type": "stream",
     "text": [
      "enter a number:4\n",
      "4  X  1  =  4\n",
      "4  X  2  =  8\n",
      "4  X  3  =  12\n",
      "4  X  4  =  16\n",
      "4  X  5  =  20\n",
      "4  X  6  =  24\n",
      "4  X  7  =  28\n",
      "4  X  8  =  32\n",
      "4  X  9  =  36\n",
      "4  X  10  =  40\n"
     ]
    }
   ],
   "source": [
    "#multiplication table\n",
    "x = int(input(\"enter a number:\"))\n",
    "for i in range(1,11):\n",
    "    a = x * i\n",
    "    print(x,' X ', i, ' = ', a)"
   ]
  },
  {
   "cell_type": "markdown",
   "id": "046f28e3",
   "metadata": {},
   "source": [
    "# Functions"
   ]
  },
  {
   "cell_type": "code",
   "execution_count": 82,
   "id": "a2e2115e",
   "metadata": {},
   "outputs": [
    {
     "data": {
      "text/plain": [
       "9"
      ]
     },
     "execution_count": 82,
     "metadata": {},
     "output_type": "execute_result"
    }
   ],
   "source": [
    "def add(a,b):\n",
    "    return a + b\n",
    "add(2,7)"
   ]
  },
  {
   "cell_type": "code",
   "execution_count": 84,
   "id": "208bf287",
   "metadata": {},
   "outputs": [
    {
     "data": {
      "text/plain": [
       "9"
      ]
     },
     "execution_count": 84,
     "metadata": {},
     "output_type": "execute_result"
    }
   ],
   "source": [
    "add_lambda = lambda x,y: x+y\n",
    "add_lambda(2,7)"
   ]
  },
  {
   "cell_type": "code",
   "execution_count": 99,
   "id": "7f498db5",
   "metadata": {
    "scrolled": true
   },
   "outputs": [
    {
     "name": "stdout",
     "output_type": "stream",
     "text": [
      "12\n",
      "14\n",
      "16\n",
      "18\n",
      "20\n",
      "22\n",
      "24\n"
     ]
    }
   ],
   "source": [
    "#even numbers\n",
    "def even_number(i,j):\n",
    "    for i in range(i,j):\n",
    "        if i%2==0:\n",
    "            print (i)\n",
    "            i=i+1\n",
    "even_number(12,25)"
   ]
  },
  {
   "cell_type": "code",
   "execution_count": 100,
   "id": "cfa07d4f",
   "metadata": {},
   "outputs": [
    {
     "name": "stdout",
     "output_type": "stream",
     "text": [
      "[12, 14, 16, 18, 20, 22, 24]\n"
     ]
    }
   ],
   "source": [
    "nlist = list(range(12,25))\n",
    "even_list = [n for n in nlist if n%2==0]\n",
    "print(even_list)"
   ]
  },
  {
   "cell_type": "markdown",
   "id": "04042346",
   "metadata": {},
   "source": [
    "## map"
   ]
  },
  {
   "cell_type": "code",
   "execution_count": 89,
   "id": "5c6059dd",
   "metadata": {},
   "outputs": [
    {
     "data": {
      "text/plain": [
       "4"
      ]
     },
     "execution_count": 89,
     "metadata": {},
     "output_type": "execute_result"
    }
   ],
   "source": [
    "def squares(a):\n",
    "    return a**2\n",
    "\n",
    "squares(2)"
   ]
  },
  {
   "cell_type": "code",
   "execution_count": 90,
   "id": "8531eb8c",
   "metadata": {},
   "outputs": [
    {
     "name": "stdout",
     "output_type": "stream",
     "text": [
      "[1, 4, 16, 36]\n"
     ]
    }
   ],
   "source": [
    "\n",
    "square = [1,2,4,6]\n",
    "l = []\n",
    "for i in square:\n",
    "    l.append(squares(i))\n",
    "print(l)"
   ]
  },
  {
   "cell_type": "code",
   "execution_count": 92,
   "id": "454b3084",
   "metadata": {},
   "outputs": [
    {
     "data": {
      "text/plain": [
       "[1, 4, 16, 36]"
      ]
     },
     "execution_count": 92,
     "metadata": {},
     "output_type": "execute_result"
    }
   ],
   "source": [
    "list(map(squares, square))"
   ]
  },
  {
   "cell_type": "markdown",
   "id": "bb061461",
   "metadata": {},
   "source": [
    "## filter"
   ]
  },
  {
   "cell_type": "code",
   "execution_count": 98,
   "id": "82b7c21d",
   "metadata": {},
   "outputs": [
    {
     "data": {
      "text/plain": [
       "[2, 6, 4]"
      ]
     },
     "execution_count": 98,
     "metadata": {},
     "output_type": "execute_result"
    }
   ],
   "source": [
    "even =[1,2,3,6,5,4]\n",
    "elist =filter(lambda j: j%2==0, even)\n",
    "list(elist)"
   ]
  },
  {
   "cell_type": "markdown",
   "id": "61935422",
   "metadata": {},
   "source": [
    "# reduce"
   ]
  },
  {
   "cell_type": "code",
   "execution_count": 101,
   "id": "ae312460",
   "metadata": {},
   "outputs": [],
   "source": [
    "from functools import reduce"
   ]
  },
  {
   "cell_type": "code",
   "execution_count": 102,
   "id": "5c7b62eb",
   "metadata": {},
   "outputs": [
    {
     "name": "stdout",
     "output_type": "stream",
     "text": [
      "720\n"
     ]
    }
   ],
   "source": [
    "# sum of all numbers in the list\n",
    "lis = [1,2,3,4,5,6]\n",
    "fact = reduce(lambda x,y : x*y ,lis)\n",
    "print(fact)"
   ]
  },
  {
   "attachments": {
    "Screenshot%202022-07-05%20at%205.46.40%20PM.png": {
     "image/png": "[encoded data removed]"
    }
   },
   "cell_type": "markdown",
   "id": "ac38339b",
   "metadata": {},
   "source": [
    "![Screenshot%202022-07-05%20at%205.46.40%20PM.png](attachment:Screenshot%202022-07-05%20at%205.46.40%20PM.png)"
   ]
  },
  {
   "cell_type": "markdown",
   "id": "2895e27d",
   "metadata": {},
   "source": []
  },
  {
   "cell_type": "markdown",
   "id": "7b3108ad",
   "metadata": {},
   "source": [
    "# List Comprehension"
   ]
  },
  {
   "cell_type": "code",
   "execution_count": 79,
   "id": "4feb05cf",
   "metadata": {},
   "outputs": [
    {
     "name": "stdout",
     "output_type": "stream",
     "text": [
      "[4, 9, 16, 25, 36, 49, 64, 81, 100, 121, 144, 169, 196, 225, 256, 289, 324, 361, 400]\n"
     ]
    }
   ],
   "source": [
    "# print the list of square of numbers from 2 to 20\n",
    "l=[]\n",
    "for i in range(2,21):\n",
    "    \n",
    "    l.append(i*i)\n",
    "print(l)"
   ]
  },
  {
   "cell_type": "code",
   "execution_count": 54,
   "id": "8611a91a",
   "metadata": {},
   "outputs": [
    {
     "name": "stdout",
     "output_type": "stream",
     "text": [
      "[4, 9, 16, 25, 36, 49, 64, 81, 100, 121, 144, 169, 196, 225, 256, 289, 324, 361]\n"
     ]
    }
   ],
   "source": [
    "l = [ i*i for i in range(2,20) ]\n",
    "print(l)"
   ]
  },
  {
   "cell_type": "code",
   "execution_count": null,
   "id": "7da4774f",
   "metadata": {},
   "outputs": [],
   "source": []
  }
 ],
 "metadata": {
  "kernelspec": {
   "display_name": "Python 3 (ipykernel)",
   "language": "python",
   "name": "python3"
  },
  "language_info": {
   "codemirror_mode": {
    "name": "ipython",
    "version": 3
   },
   "file_extension": ".py",
   "mimetype": "text/x-python",
   "name": "python",
   "nbconvert_exporter": "python",
   "pygments_lexer": "ipython3",
   "version": "3.9.7"
  }
 },
 "nbformat": 4,
 "nbformat_minor": 5
}
